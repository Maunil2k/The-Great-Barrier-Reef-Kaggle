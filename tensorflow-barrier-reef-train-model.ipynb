{
 "cells": [
  {
   "cell_type": "code",
   "execution_count": 1,
   "id": "9a889ad1",
   "metadata": {
    "_cell_guid": "b1076dfc-b9ad-4769-8c92-a6c4dae69d19",
    "_uuid": "8f2839f25d086af736a60e9eeb907d3b93b6e0e5",
    "execution": {
     "iopub.execute_input": "2021-12-11T12:58:50.299352Z",
     "iopub.status.busy": "2021-12-11T12:58:50.298301Z",
     "iopub.status.idle": "2021-12-11T12:58:51.326079Z",
     "shell.execute_reply": "2021-12-11T12:58:51.325307Z",
     "shell.execute_reply.started": "2021-12-11T12:54:52.291503Z"
    },
    "papermill": {
     "duration": 1.058774,
     "end_time": "2021-12-11T12:58:51.326305",
     "exception": false,
     "start_time": "2021-12-11T12:58:50.267531",
     "status": "completed"
    },
    "tags": []
   },
   "outputs": [],
   "source": [
    "import pandas as pd\n",
    "import numpy as np\n",
    "import os\n",
    "import ast\n",
    "import yaml\n",
    "from tqdm import tqdm\n",
    "from sklearn.model_selection import train_test_split\n",
    "from shutil import copyfile\n",
    "import yaml"
   ]
  },
  {
   "cell_type": "code",
   "execution_count": 2,
   "id": "9dcf7fd7",
   "metadata": {
    "execution": {
     "iopub.execute_input": "2021-12-11T12:58:51.368874Z",
     "iopub.status.busy": "2021-12-11T12:58:51.367938Z",
     "iopub.status.idle": "2021-12-11T12:59:05.140084Z",
     "shell.execute_reply": "2021-12-11T12:59:05.140660Z",
     "shell.execute_reply.started": "2021-12-11T12:54:53.153521Z"
    },
    "papermill": {
     "duration": 13.796337,
     "end_time": "2021-12-11T12:59:05.140897",
     "exception": false,
     "start_time": "2021-12-11T12:58:51.344560",
     "status": "completed"
    },
    "tags": []
   },
   "outputs": [
    {
     "name": "stdout",
     "output_type": "stream",
     "text": [
      "\u001b[33mWARNING: Running pip as the 'root' user can result in broken permissions and conflicting behaviour with the system package manager. It is recommended to use a virtual environment instead: https://pip.pypa.io/warnings/venv\u001b[0m\r\n",
      "0.12.7\n"
     ]
    },
    {
     "name": "stderr",
     "output_type": "stream",
     "text": [
      "\u001b[34m\u001b[1mwandb\u001b[0m: Appending key for api.wandb.ai to your netrc file: /root/.netrc\n"
     ]
    },
    {
     "data": {
      "text/plain": [
       "True"
      ]
     },
     "execution_count": 2,
     "metadata": {},
     "output_type": "execute_result"
    }
   ],
   "source": [
    "# Install W&B \n",
    "!pip install -q --upgrade wandb\n",
    "\n",
    "# Login \n",
    "import wandb\n",
    "print(wandb.__version__)\n",
    "wandb.login(anonymous='must')"
   ]
  },
  {
   "cell_type": "code",
   "execution_count": 3,
   "id": "f4cd2321",
   "metadata": {
    "execution": {
     "iopub.execute_input": "2021-12-11T12:59:05.185053Z",
     "iopub.status.busy": "2021-12-11T12:59:05.183937Z",
     "iopub.status.idle": "2021-12-11T12:59:05.258539Z",
     "shell.execute_reply": "2021-12-11T12:59:05.259158Z",
     "shell.execute_reply.started": "2021-12-11T12:55:03.700435Z"
    },
    "papermill": {
     "duration": 0.098412,
     "end_time": "2021-12-11T12:59:05.259332",
     "exception": false,
     "start_time": "2021-12-11T12:59:05.160920",
     "status": "completed"
    },
    "tags": []
   },
   "outputs": [
    {
     "data": {
      "text/html": [
       "<div>\n",
       "<style scoped>\n",
       "    .dataframe tbody tr th:only-of-type {\n",
       "        vertical-align: middle;\n",
       "    }\n",
       "\n",
       "    .dataframe tbody tr th {\n",
       "        vertical-align: top;\n",
       "    }\n",
       "\n",
       "    .dataframe thead th {\n",
       "        text-align: right;\n",
       "    }\n",
       "</style>\n",
       "<table border=\"1\" class=\"dataframe\">\n",
       "  <thead>\n",
       "    <tr style=\"text-align: right;\">\n",
       "      <th></th>\n",
       "      <th>video_id</th>\n",
       "      <th>sequence</th>\n",
       "      <th>video_frame</th>\n",
       "      <th>sequence_frame</th>\n",
       "      <th>image_id</th>\n",
       "      <th>annotations</th>\n",
       "    </tr>\n",
       "  </thead>\n",
       "  <tbody>\n",
       "    <tr>\n",
       "      <th>0</th>\n",
       "      <td>0</td>\n",
       "      <td>40258</td>\n",
       "      <td>0</td>\n",
       "      <td>0</td>\n",
       "      <td>0-0</td>\n",
       "      <td>[]</td>\n",
       "    </tr>\n",
       "    <tr>\n",
       "      <th>1</th>\n",
       "      <td>0</td>\n",
       "      <td>40258</td>\n",
       "      <td>1</td>\n",
       "      <td>1</td>\n",
       "      <td>0-1</td>\n",
       "      <td>[]</td>\n",
       "    </tr>\n",
       "    <tr>\n",
       "      <th>2</th>\n",
       "      <td>0</td>\n",
       "      <td>40258</td>\n",
       "      <td>2</td>\n",
       "      <td>2</td>\n",
       "      <td>0-2</td>\n",
       "      <td>[]</td>\n",
       "    </tr>\n",
       "    <tr>\n",
       "      <th>3</th>\n",
       "      <td>0</td>\n",
       "      <td>40258</td>\n",
       "      <td>3</td>\n",
       "      <td>3</td>\n",
       "      <td>0-3</td>\n",
       "      <td>[]</td>\n",
       "    </tr>\n",
       "    <tr>\n",
       "      <th>4</th>\n",
       "      <td>0</td>\n",
       "      <td>40258</td>\n",
       "      <td>4</td>\n",
       "      <td>4</td>\n",
       "      <td>0-4</td>\n",
       "      <td>[]</td>\n",
       "    </tr>\n",
       "  </tbody>\n",
       "</table>\n",
       "</div>"
      ],
      "text/plain": [
       "   video_id  sequence  video_frame  sequence_frame image_id annotations\n",
       "0         0     40258            0               0      0-0          []\n",
       "1         0     40258            1               1      0-1          []\n",
       "2         0     40258            2               2      0-2          []\n",
       "3         0     40258            3               3      0-3          []\n",
       "4         0     40258            4               4      0-4          []"
      ]
     },
     "execution_count": 3,
     "metadata": {},
     "output_type": "execute_result"
    }
   ],
   "source": [
    "df = pd.read_csv('../input/tensorflow-great-barrier-reef/train.csv')\n",
    "df.head()"
   ]
  },
  {
   "cell_type": "code",
   "execution_count": 4,
   "id": "9bb0fe88",
   "metadata": {
    "execution": {
     "iopub.execute_input": "2021-12-11T12:59:05.310073Z",
     "iopub.status.busy": "2021-12-11T12:59:05.308892Z",
     "iopub.status.idle": "2021-12-11T12:59:05.861910Z",
     "shell.execute_reply": "2021-12-11T12:59:05.862451Z",
     "shell.execute_reply.started": "2021-12-11T12:55:03.770316Z"
    },
    "papermill": {
     "duration": 0.582593,
     "end_time": "2021-12-11T12:59:05.862631",
     "exception": false,
     "start_time": "2021-12-11T12:59:05.280038",
     "status": "completed"
    },
    "tags": []
   },
   "outputs": [
    {
     "data": {
      "text/html": [
       "<div>\n",
       "<style scoped>\n",
       "    .dataframe tbody tr th:only-of-type {\n",
       "        vertical-align: middle;\n",
       "    }\n",
       "\n",
       "    .dataframe tbody tr th {\n",
       "        vertical-align: top;\n",
       "    }\n",
       "\n",
       "    .dataframe thead th {\n",
       "        text-align: right;\n",
       "    }\n",
       "</style>\n",
       "<table border=\"1\" class=\"dataframe\">\n",
       "  <thead>\n",
       "    <tr style=\"text-align: right;\">\n",
       "      <th></th>\n",
       "      <th>video_id</th>\n",
       "      <th>sequence</th>\n",
       "      <th>video_frame</th>\n",
       "      <th>sequence_frame</th>\n",
       "      <th>image_id</th>\n",
       "      <th>annotations</th>\n",
       "      <th>no_of_bboxes</th>\n",
       "    </tr>\n",
       "  </thead>\n",
       "  <tbody>\n",
       "    <tr>\n",
       "      <th>0</th>\n",
       "      <td>0</td>\n",
       "      <td>40258</td>\n",
       "      <td>16</td>\n",
       "      <td>16</td>\n",
       "      <td>0-16</td>\n",
       "      <td>[{'x': 559, 'y': 213, 'width': 50, 'height': 32}]</td>\n",
       "      <td>1</td>\n",
       "    </tr>\n",
       "    <tr>\n",
       "      <th>1</th>\n",
       "      <td>0</td>\n",
       "      <td>40258</td>\n",
       "      <td>17</td>\n",
       "      <td>17</td>\n",
       "      <td>0-17</td>\n",
       "      <td>[{'x': 558, 'y': 213, 'width': 50, 'height': 32}]</td>\n",
       "      <td>1</td>\n",
       "    </tr>\n",
       "    <tr>\n",
       "      <th>2</th>\n",
       "      <td>0</td>\n",
       "      <td>40258</td>\n",
       "      <td>18</td>\n",
       "      <td>18</td>\n",
       "      <td>0-18</td>\n",
       "      <td>[{'x': 557, 'y': 213, 'width': 50, 'height': 32}]</td>\n",
       "      <td>1</td>\n",
       "    </tr>\n",
       "    <tr>\n",
       "      <th>3</th>\n",
       "      <td>0</td>\n",
       "      <td>40258</td>\n",
       "      <td>19</td>\n",
       "      <td>19</td>\n",
       "      <td>0-19</td>\n",
       "      <td>[{'x': 556, 'y': 214, 'width': 50, 'height': 32}]</td>\n",
       "      <td>1</td>\n",
       "    </tr>\n",
       "    <tr>\n",
       "      <th>4</th>\n",
       "      <td>0</td>\n",
       "      <td>40258</td>\n",
       "      <td>20</td>\n",
       "      <td>20</td>\n",
       "      <td>0-20</td>\n",
       "      <td>[{'x': 555, 'y': 214, 'width': 50, 'height': 32}]</td>\n",
       "      <td>1</td>\n",
       "    </tr>\n",
       "  </tbody>\n",
       "</table>\n",
       "</div>"
      ],
      "text/plain": [
       "   video_id  sequence  video_frame  sequence_frame image_id  \\\n",
       "0         0     40258           16              16     0-16   \n",
       "1         0     40258           17              17     0-17   \n",
       "2         0     40258           18              18     0-18   \n",
       "3         0     40258           19              19     0-19   \n",
       "4         0     40258           20              20     0-20   \n",
       "\n",
       "                                         annotations  no_of_bboxes  \n",
       "0  [{'x': 559, 'y': 213, 'width': 50, 'height': 32}]             1  \n",
       "1  [{'x': 558, 'y': 213, 'width': 50, 'height': 32}]             1  \n",
       "2  [{'x': 557, 'y': 213, 'width': 50, 'height': 32}]             1  \n",
       "3  [{'x': 556, 'y': 214, 'width': 50, 'height': 32}]             1  \n",
       "4  [{'x': 555, 'y': 214, 'width': 50, 'height': 32}]             1  "
      ]
     },
     "execution_count": 4,
     "metadata": {},
     "output_type": "execute_result"
    }
   ],
   "source": [
    "#finding no. of samples without any bounding boxes\n",
    "df.annotations = df.annotations.apply(ast.literal_eval)\n",
    "df['no_of_bboxes'] = df['annotations'].apply(lambda x: len(x))\n",
    "\n",
    "# drop rows with 0 bounding boxes\n",
    "df = df.loc[lambda df: df['no_of_bboxes']>0]\n",
    "df.reset_index(inplace=True)\n",
    "df = df.drop(['index'], axis=1)\n",
    "df.head()"
   ]
  },
  {
   "cell_type": "code",
   "execution_count": 5,
   "id": "f67edb9c",
   "metadata": {
    "execution": {
     "iopub.execute_input": "2021-12-11T12:59:05.911695Z",
     "iopub.status.busy": "2021-12-11T12:59:05.910521Z",
     "iopub.status.idle": "2021-12-11T12:59:05.915886Z",
     "shell.execute_reply": "2021-12-11T12:59:05.916793Z",
     "shell.execute_reply.started": "2021-12-11T12:55:04.268729Z"
    },
    "papermill": {
     "duration": 0.03336,
     "end_time": "2021-12-11T12:59:05.917047",
     "exception": false,
     "start_time": "2021-12-11T12:59:05.883687",
     "status": "completed"
    },
    "tags": []
   },
   "outputs": [
    {
     "name": "stdout",
     "output_type": "stream",
     "text": [
      "18\n"
     ]
    }
   ],
   "source": [
    "print(df.no_of_bboxes.values.max())"
   ]
  },
  {
   "cell_type": "code",
   "execution_count": 6,
   "id": "2a01cfa1",
   "metadata": {
    "execution": {
     "iopub.execute_input": "2021-12-11T12:59:05.969657Z",
     "iopub.status.busy": "2021-12-11T12:59:05.968676Z",
     "iopub.status.idle": "2021-12-11T12:59:05.972493Z",
     "shell.execute_reply": "2021-12-11T12:59:05.971895Z",
     "shell.execute_reply.started": "2021-12-11T12:55:04.277234Z"
    },
    "papermill": {
     "duration": 0.032292,
     "end_time": "2021-12-11T12:59:05.972631",
     "exception": false,
     "start_time": "2021-12-11T12:59:05.940339",
     "status": "completed"
    },
    "tags": []
   },
   "outputs": [],
   "source": [
    "def retrieve_bounding_box(list_of_annotations):\n",
    "    '''\n",
    "    Retrieve the bounding box values for training YOLO\n",
    "    '''\n",
    "    bboxes = []\n",
    "    for bbox in list_of_annotations:\n",
    "        width = bbox['width']\n",
    "        height = bbox['height']\n",
    "        xc = bbox['x'] + int(width/2)\n",
    "        yc = bbox['x'] + int(height/2)\n",
    "        xc/=1280\n",
    "        width/=1280\n",
    "        yc/=720\n",
    "        height/=720\n",
    "        modified_bbox = [0, xc, yc, width, height]\n",
    "        bboxes.append(modified_bbox)\n",
    "        \n",
    "        #we did this because YOLO expects data in a particular format as shown below:\n",
    "        # (x_centre, y_centre, box_width, box_height)\n",
    "    return bboxes"
   ]
  },
  {
   "cell_type": "code",
   "execution_count": 7,
   "id": "fbb0f789",
   "metadata": {
    "execution": {
     "iopub.execute_input": "2021-12-11T12:59:06.057986Z",
     "iopub.status.busy": "2021-12-11T12:59:06.021824Z",
     "iopub.status.idle": "2021-12-11T12:59:08.194112Z",
     "shell.execute_reply": "2021-12-11T12:59:08.193250Z",
     "shell.execute_reply.started": "2021-12-11T12:55:04.287579Z"
    },
    "papermill": {
     "duration": 2.200845,
     "end_time": "2021-12-11T12:59:08.194261",
     "exception": false,
     "start_time": "2021-12-11T12:59:05.993416",
     "status": "completed"
    },
    "tags": []
   },
   "outputs": [
    {
     "name": "stderr",
     "output_type": "stream",
     "text": [
      "/opt/conda/lib/python3.7/site-packages/ipykernel_launcher.py:5: SettingWithCopyWarning: \n",
      "A value is trying to be set on a copy of a slice from a DataFrame\n",
      "\n",
      "See the caveats in the documentation: https://pandas.pydata.org/pandas-docs/stable/user_guide/indexing.html#returning-a-view-versus-a-copy\n",
      "  \"\"\"\n"
     ]
    },
    {
     "data": {
      "text/html": [
       "<div>\n",
       "<style scoped>\n",
       "    .dataframe tbody tr th:only-of-type {\n",
       "        vertical-align: middle;\n",
       "    }\n",
       "\n",
       "    .dataframe tbody tr th {\n",
       "        vertical-align: top;\n",
       "    }\n",
       "\n",
       "    .dataframe thead th {\n",
       "        text-align: right;\n",
       "    }\n",
       "</style>\n",
       "<table border=\"1\" class=\"dataframe\">\n",
       "  <thead>\n",
       "    <tr style=\"text-align: right;\">\n",
       "      <th></th>\n",
       "      <th>video_id</th>\n",
       "      <th>sequence</th>\n",
       "      <th>video_frame</th>\n",
       "      <th>sequence_frame</th>\n",
       "      <th>image_id</th>\n",
       "      <th>annotations</th>\n",
       "      <th>no_of_bboxes</th>\n",
       "      <th>bbox</th>\n",
       "      <th>image_path</th>\n",
       "    </tr>\n",
       "  </thead>\n",
       "  <tbody>\n",
       "    <tr>\n",
       "      <th>0</th>\n",
       "      <td>0</td>\n",
       "      <td>40258</td>\n",
       "      <td>16</td>\n",
       "      <td>16</td>\n",
       "      <td>0-16</td>\n",
       "      <td>[{'x': 559, 'y': 213, 'width': 50, 'height': 32}]</td>\n",
       "      <td>1</td>\n",
       "      <td>[[0, 0.45625, 0.7986111111111112, 0.0390625, 0...</td>\n",
       "      <td>../input/tensorflow-great-barrier-reef/train_i...</td>\n",
       "    </tr>\n",
       "    <tr>\n",
       "      <th>1</th>\n",
       "      <td>0</td>\n",
       "      <td>40258</td>\n",
       "      <td>17</td>\n",
       "      <td>17</td>\n",
       "      <td>0-17</td>\n",
       "      <td>[{'x': 558, 'y': 213, 'width': 50, 'height': 32}]</td>\n",
       "      <td>1</td>\n",
       "      <td>[[0, 0.45546875, 0.7972222222222223, 0.0390625...</td>\n",
       "      <td>../input/tensorflow-great-barrier-reef/train_i...</td>\n",
       "    </tr>\n",
       "    <tr>\n",
       "      <th>2</th>\n",
       "      <td>0</td>\n",
       "      <td>40258</td>\n",
       "      <td>18</td>\n",
       "      <td>18</td>\n",
       "      <td>0-18</td>\n",
       "      <td>[{'x': 557, 'y': 213, 'width': 50, 'height': 32}]</td>\n",
       "      <td>1</td>\n",
       "      <td>[[0, 0.4546875, 0.7958333333333333, 0.0390625,...</td>\n",
       "      <td>../input/tensorflow-great-barrier-reef/train_i...</td>\n",
       "    </tr>\n",
       "    <tr>\n",
       "      <th>3</th>\n",
       "      <td>0</td>\n",
       "      <td>40258</td>\n",
       "      <td>19</td>\n",
       "      <td>19</td>\n",
       "      <td>0-19</td>\n",
       "      <td>[{'x': 556, 'y': 214, 'width': 50, 'height': 32}]</td>\n",
       "      <td>1</td>\n",
       "      <td>[[0, 0.45390625, 0.7944444444444444, 0.0390625...</td>\n",
       "      <td>../input/tensorflow-great-barrier-reef/train_i...</td>\n",
       "    </tr>\n",
       "    <tr>\n",
       "      <th>4</th>\n",
       "      <td>0</td>\n",
       "      <td>40258</td>\n",
       "      <td>20</td>\n",
       "      <td>20</td>\n",
       "      <td>0-20</td>\n",
       "      <td>[{'x': 555, 'y': 214, 'width': 50, 'height': 32}]</td>\n",
       "      <td>1</td>\n",
       "      <td>[[0, 0.453125, 0.7930555555555555, 0.0390625, ...</td>\n",
       "      <td>../input/tensorflow-great-barrier-reef/train_i...</td>\n",
       "    </tr>\n",
       "  </tbody>\n",
       "</table>\n",
       "</div>"
      ],
      "text/plain": [
       "   video_id  sequence  video_frame  sequence_frame image_id  \\\n",
       "0         0     40258           16              16     0-16   \n",
       "1         0     40258           17              17     0-17   \n",
       "2         0     40258           18              18     0-18   \n",
       "3         0     40258           19              19     0-19   \n",
       "4         0     40258           20              20     0-20   \n",
       "\n",
       "                                         annotations  no_of_bboxes  \\\n",
       "0  [{'x': 559, 'y': 213, 'width': 50, 'height': 32}]             1   \n",
       "1  [{'x': 558, 'y': 213, 'width': 50, 'height': 32}]             1   \n",
       "2  [{'x': 557, 'y': 213, 'width': 50, 'height': 32}]             1   \n",
       "3  [{'x': 556, 'y': 214, 'width': 50, 'height': 32}]             1   \n",
       "4  [{'x': 555, 'y': 214, 'width': 50, 'height': 32}]             1   \n",
       "\n",
       "                                                bbox  \\\n",
       "0  [[0, 0.45625, 0.7986111111111112, 0.0390625, 0...   \n",
       "1  [[0, 0.45546875, 0.7972222222222223, 0.0390625...   \n",
       "2  [[0, 0.4546875, 0.7958333333333333, 0.0390625,...   \n",
       "3  [[0, 0.45390625, 0.7944444444444444, 0.0390625...   \n",
       "4  [[0, 0.453125, 0.7930555555555555, 0.0390625, ...   \n",
       "\n",
       "                                          image_path  \n",
       "0  ../input/tensorflow-great-barrier-reef/train_i...  \n",
       "1  ../input/tensorflow-great-barrier-reef/train_i...  \n",
       "2  ../input/tensorflow-great-barrier-reef/train_i...  \n",
       "3  ../input/tensorflow-great-barrier-reef/train_i...  \n",
       "4  ../input/tensorflow-great-barrier-reef/train_i...  "
      ]
     },
     "execution_count": 7,
     "metadata": {},
     "output_type": "execute_result"
    }
   ],
   "source": [
    "df['bbox'] = [retrieve_bounding_box(df.annotations[i]) for i in range(len(df))]\n",
    "df['image_path'] = None\n",
    "for i in range(len(df)):\n",
    "    path = f\"../input/tensorflow-great-barrier-reef/train_images/video_{df.video_id[i]}/{df.video_frame[i]}.jpg\"\n",
    "    df.image_path[i] = path\n",
    "df.head()"
   ]
  },
  {
   "cell_type": "code",
   "execution_count": 8,
   "id": "eb99a7ea",
   "metadata": {
    "execution": {
     "iopub.execute_input": "2021-12-11T12:59:08.247949Z",
     "iopub.status.busy": "2021-12-11T12:59:08.246668Z",
     "iopub.status.idle": "2021-12-11T12:59:08.252848Z",
     "shell.execute_reply": "2021-12-11T12:59:08.252307Z",
     "shell.execute_reply.started": "2021-12-11T12:55:06.208114Z"
    },
    "papermill": {
     "duration": 0.036686,
     "end_time": "2021-12-11T12:59:08.252994",
     "exception": false,
     "start_time": "2021-12-11T12:59:08.216308",
     "status": "completed"
    },
    "tags": []
   },
   "outputs": [],
   "source": [
    "train_df, valid_df = train_test_split(\n",
    "    df,\n",
    "    test_size = 0.1,\n",
    "    random_state = 42,\n",
    "    shuffle = True\n",
    ")\n",
    "\n",
    "train_df = train_df.reset_index(drop=True)\n",
    "valid_df = valid_df.reset_index(drop=True)"
   ]
  },
  {
   "cell_type": "code",
   "execution_count": 9,
   "id": "7435ba40",
   "metadata": {
    "execution": {
     "iopub.execute_input": "2021-12-11T12:59:08.324999Z",
     "iopub.status.busy": "2021-12-11T12:59:08.314700Z",
     "iopub.status.idle": "2021-12-11T12:59:14.967214Z",
     "shell.execute_reply": "2021-12-11T12:59:14.966262Z",
     "shell.execute_reply.started": "2021-12-11T12:55:06.219542Z"
    },
    "papermill": {
     "duration": 6.692673,
     "end_time": "2021-12-11T12:59:14.967393",
     "exception": false,
     "start_time": "2021-12-11T12:59:08.274720",
     "status": "completed"
    },
    "tags": []
   },
   "outputs": [
    {
     "name": "stdout",
     "output_type": "stream",
     "text": [
      "/kaggle/working/the_great_barrier_reef_data\n",
      "/kaggle/working/the_great_barrier_reef_data/images\n",
      "/kaggle/working/the_great_barrier_reef_data\n",
      "/kaggle/working/the_great_barrier_reef_data/labels\n",
      "/kaggle/working/the_great_barrier_reef_data\n",
      "/kaggle/working\n",
      "\u001b[01;34m.\u001b[00m\r\n",
      "├── __notebook__.ipynb\r\n",
      "└── \u001b[01;34mthe_great_barrier_reef_data\u001b[00m\r\n",
      "    ├── \u001b[01;34mimages\u001b[00m\r\n",
      "    │   ├── \u001b[01;34mtrain\u001b[00m\r\n",
      "    │   └── \u001b[01;34mvalidation\u001b[00m\r\n",
      "    └── \u001b[01;34mlabels\u001b[00m\r\n",
      "        ├── \u001b[01;34mtrain\u001b[00m\r\n",
      "        └── \u001b[01;34mvalidation\u001b[00m\r\n",
      "\r\n",
      "7 directories, 1 file\r\n"
     ]
    }
   ],
   "source": [
    "# Execute the following set of commands just once\n",
    "%pwd\n",
    "!mkdir the_great_barrier_reef_data\n",
    "%cd the_great_barrier_reef_data\n",
    "!mkdir images\n",
    "!mkdir labels\n",
    "%cd images\n",
    "!mkdir train\n",
    "!mkdir validation\n",
    "%cd ..\n",
    "%cd labels\n",
    "!mkdir train\n",
    "!mkdir validation\n",
    "%cd ..\n",
    "%cd ..\n",
    "!tree"
   ]
  },
  {
   "cell_type": "code",
   "execution_count": 10,
   "id": "a5b0d0a1",
   "metadata": {
    "execution": {
     "iopub.execute_input": "2021-12-11T12:59:15.022314Z",
     "iopub.status.busy": "2021-12-11T12:59:15.021439Z",
     "iopub.status.idle": "2021-12-11T13:00:13.806634Z",
     "shell.execute_reply": "2021-12-11T13:00:13.806049Z",
     "shell.execute_reply.started": "2021-12-11T12:55:11.602684Z"
    },
    "papermill": {
     "duration": 58.814746,
     "end_time": "2021-12-11T13:00:13.806831",
     "exception": false,
     "start_time": "2021-12-11T12:59:14.992085",
     "status": "completed"
    },
    "tags": []
   },
   "outputs": [
    {
     "name": "stderr",
     "output_type": "stream",
     "text": [
      "100%|██████████| 4427/4427 [00:52<00:00, 83.54it/s]\n",
      "100%|██████████| 492/492 [00:05<00:00, 85.23it/s]\n"
     ]
    }
   ],
   "source": [
    "for i in tqdm(range(len(train_df))):\n",
    "    row = train_df.loc[i]\n",
    "    copyfile(f'{row.image_path}', f'./the_great_barrier_reef_data/images/train/{row.image_id}.jpg')\n",
    "\n",
    "for i in tqdm(range(len(valid_df))):\n",
    "    row = valid_df.loc[i]\n",
    "    copyfile(f'{row.image_path}', f'./the_great_barrier_reef_data/images/validation/{row.image_id}.jpg')    "
   ]
  },
  {
   "cell_type": "code",
   "execution_count": 11,
   "id": "bc6f3265",
   "metadata": {
    "execution": {
     "iopub.execute_input": "2021-12-11T13:00:14.225273Z",
     "iopub.status.busy": "2021-12-11T13:00:14.224365Z",
     "iopub.status.idle": "2021-12-11T13:00:18.434285Z",
     "shell.execute_reply": "2021-12-11T13:00:18.431585Z",
     "shell.execute_reply.started": "2021-12-11T12:56:06.428910Z"
    },
    "papermill": {
     "duration": 4.423735,
     "end_time": "2021-12-11T13:00:18.434522",
     "exception": false,
     "start_time": "2021-12-11T13:00:14.010787",
     "status": "completed"
    },
    "tags": []
   },
   "outputs": [
    {
     "name": "stderr",
     "output_type": "stream",
     "text": [
      "100%|██████████| 4427/4427 [00:03<00:00, 1245.25it/s]\n",
      "100%|██████████| 492/492 [00:00<00:00, 782.72it/s]\n"
     ]
    }
   ],
   "source": [
    "for i in tqdm(range(train_df.shape[0])):\n",
    "    row = train_df.loc[i]\n",
    "    yolo_label_data = row.bbox\n",
    "    yolo_label_data = np.array(yolo_label_data)\n",
    "    np.savetxt(\n",
    "        f\"./the_great_barrier_reef_data/labels/train/{row.image_id}.txt\",\n",
    "        yolo_label_data,\n",
    "        fmt=[\"%d\", \"%f\", \"%f\", \"%f\", \"%f\"]\n",
    "    )\n",
    "\n",
    "for i in tqdm(range(valid_df.shape[0])):\n",
    "    row = valid_df.loc[i]\n",
    "    yolo_label_data = row.bbox\n",
    "    yolo_label_data = np.array(yolo_label_data)\n",
    "    np.savetxt(\n",
    "        f\"./the_great_barrier_reef_data/labels/validation/{row.image_id}.txt\",\n",
    "        yolo_label_data,\n",
    "        fmt=[\"%d\", \"%f\", \"%f\", \"%f\", \"%f\"]\n",
    "    )"
   ]
  },
  {
   "cell_type": "code",
   "execution_count": 12,
   "id": "5a0ff27e",
   "metadata": {
    "execution": {
     "iopub.execute_input": "2021-12-11T13:00:19.200764Z",
     "iopub.status.busy": "2021-12-11T13:00:19.194715Z",
     "iopub.status.idle": "2021-12-11T13:00:22.339876Z",
     "shell.execute_reply": "2021-12-11T13:00:22.338233Z",
     "shell.execute_reply.started": "2021-12-11T12:56:09.499528Z"
    },
    "papermill": {
     "duration": 3.401551,
     "end_time": "2021-12-11T13:00:22.340054",
     "exception": false,
     "start_time": "2021-12-11T13:00:18.938503",
     "status": "completed"
    },
    "tags": []
   },
   "outputs": [
    {
     "name": "stdout",
     "output_type": "stream",
     "text": [
      "Cloning into 'yolov5'...\r\n",
      "remote: Enumerating objects: 10177, done.\u001b[K\r\n",
      "remote: Counting objects: 100% (8/8), done.\u001b[K\r\n",
      "remote: Compressing objects: 100% (5/5), done.\u001b[K\r\n",
      "remote: Total 10177 (delta 3), reused 8 (delta 3), pack-reused 10169\u001b[K\r\n",
      "Receiving objects: 100% (10177/10177), 10.41 MiB | 14.83 MiB/s, done.\r\n",
      "Resolving deltas: 100% (7055/7055), done.\r\n"
     ]
    }
   ],
   "source": [
    "!git clone https://github.com/ultralytics/yolov5.git"
   ]
  },
  {
   "cell_type": "code",
   "execution_count": 13,
   "id": "acd4c93f",
   "metadata": {
    "execution": {
     "iopub.execute_input": "2021-12-11T13:00:22.799348Z",
     "iopub.status.busy": "2021-12-11T13:00:22.798406Z",
     "iopub.status.idle": "2021-12-11T13:00:23.549359Z",
     "shell.execute_reply": "2021-12-11T13:00:23.548653Z",
     "shell.execute_reply.started": "2021-12-11T12:56:13.984466Z"
    },
    "papermill": {
     "duration": 0.985161,
     "end_time": "2021-12-11T13:00:23.549517",
     "exception": false,
     "start_time": "2021-12-11T13:00:22.564356",
     "status": "completed"
    },
    "tags": []
   },
   "outputs": [
    {
     "name": "stdout",
     "output_type": "stream",
     "text": [
      "CONTRIBUTING.md  README.md  export.py   \u001b[0m\u001b[01;32mrequirements.txt\u001b[0m*  tutorial.ipynb\r\n",
      "Dockerfile       \u001b[01;34mdata\u001b[0m/      hubconf.py  setup.cfg          \u001b[01;34mutils\u001b[0m/\r\n",
      "LICENSE          detect.py  \u001b[01;34mmodels\u001b[0m/     train.py           val.py\r\n"
     ]
    }
   ],
   "source": [
    "%ls yolov5/"
   ]
  },
  {
   "cell_type": "code",
   "execution_count": 14,
   "id": "05601fc4",
   "metadata": {
    "execution": {
     "iopub.execute_input": "2021-12-11T13:00:24.020084Z",
     "iopub.status.busy": "2021-12-11T13:00:24.019042Z",
     "iopub.status.idle": "2021-12-11T13:00:24.770986Z",
     "shell.execute_reply": "2021-12-11T13:00:24.771562Z",
     "shell.execute_reply.started": "2021-12-11T12:56:14.644226Z"
    },
    "papermill": {
     "duration": 0.987044,
     "end_time": "2021-12-11T13:00:24.771758",
     "exception": false,
     "start_time": "2021-12-11T13:00:23.784714",
     "status": "completed"
    },
    "tags": []
   },
   "outputs": [
    {
     "name": "stdout",
     "output_type": "stream",
     "text": [
      "names:\r\n",
      "- COTS\r\n",
      "nc: 1\r\n",
      "train: /kaggle/working/the_great_barrier_reef_data/images/train\r\n",
      "val: /kaggle/working/the_great_barrier_reef_data/images/validation\r\n"
     ]
    }
   ],
   "source": [
    "data = dict(train = '/kaggle/working/the_great_barrier_reef_data/images/train',\n",
    "        val = '/kaggle/working/the_great_barrier_reef_data/images/validation',\n",
    "        nc = 1,\n",
    "        names = ['COTS']\n",
    "        )\n",
    "\n",
    "with open('/kaggle/working/yolov5/data/data.yaml', 'w') as outfile:\n",
    "    yaml.dump(data, outfile)\n",
    "\n",
    "%cat /kaggle/working/yolov5/data/data.yaml"
   ]
  },
  {
   "cell_type": "code",
   "execution_count": 15,
   "id": "d523c69c",
   "metadata": {
    "execution": {
     "iopub.execute_input": "2021-12-11T13:00:25.242963Z",
     "iopub.status.busy": "2021-12-11T13:00:25.233982Z",
     "iopub.status.idle": "2021-12-11T13:00:26.565928Z",
     "shell.execute_reply": "2021-12-11T13:00:26.565108Z",
     "shell.execute_reply.started": "2021-12-11T12:56:15.310666Z"
    },
    "papermill": {
     "duration": 1.560247,
     "end_time": "2021-12-11T13:00:26.566102",
     "exception": false,
     "start_time": "2021-12-11T13:00:25.005855",
     "status": "completed"
    },
    "tags": []
   },
   "outputs": [],
   "source": [
    "%cp /kaggle/input/pretrained-weights-yolov5s/yolov5s.pt /kaggle/working/yolov5/"
   ]
  },
  {
   "cell_type": "code",
   "execution_count": 16,
   "id": "fc7b38fe",
   "metadata": {
    "execution": {
     "iopub.execute_input": "2021-12-11T13:00:27.048329Z",
     "iopub.status.busy": "2021-12-11T13:00:27.046982Z",
     "iopub.status.idle": "2021-12-11T13:00:27.052800Z",
     "shell.execute_reply": "2021-12-11T13:00:27.052150Z",
     "shell.execute_reply.started": "2021-12-11T12:56:16.676992Z"
    },
    "papermill": {
     "duration": 0.24713,
     "end_time": "2021-12-11T13:00:27.052959",
     "exception": false,
     "start_time": "2021-12-11T13:00:26.805829",
     "status": "completed"
    },
    "tags": []
   },
   "outputs": [
    {
     "name": "stdout",
     "output_type": "stream",
     "text": [
      "/kaggle/working/yolov5\n"
     ]
    }
   ],
   "source": [
    "%cd yolov5/"
   ]
  },
  {
   "cell_type": "code",
   "execution_count": 17,
   "id": "a1bf317c",
   "metadata": {
    "execution": {
     "iopub.execute_input": "2021-12-11T13:00:27.532001Z",
     "iopub.status.busy": "2021-12-11T13:00:27.531050Z",
     "iopub.status.idle": "2021-12-11T16:55:49.445039Z",
     "shell.execute_reply": "2021-12-11T16:55:49.444394Z",
     "shell.execute_reply.started": "2021-12-11T12:56:16.685502Z"
    },
    "papermill": {
     "duration": 14122.145106,
     "end_time": "2021-12-11T16:55:49.445198",
     "exception": false,
     "start_time": "2021-12-11T13:00:27.300092",
     "status": "completed"
    },
    "tags": []
   },
   "outputs": [
    {
     "name": "stdout",
     "output_type": "stream",
     "text": [
      "Downloading https://ultralytics.com/assets/Arial.ttf to /root/.config/Ultralytics/Arial.ttf...\r\n",
      "\u001b[34m\u001b[1mwandb\u001b[0m: Currently logged in as: \u001b[33manony-mouse-170823\u001b[0m (use `wandb login --relogin` to force relogin)\r\n",
      "\u001b[34m\u001b[1mgithub: \u001b[0mup to date with https://github.com/ultralytics/yolov5 ✅\r\n",
      "\u001b[34m\u001b[1mwandb\u001b[0m: Tracking run with wandb version 0.12.7\r\n",
      "\u001b[34m\u001b[1mwandb\u001b[0m: Syncing run \u001b[33mfinetuned_YOLO5s_with_35_epochs\u001b[0m\r\n",
      "\u001b[34m\u001b[1mwandb\u001b[0m: ⭐️ View project at \u001b[34m\u001b[4mhttps://wandb.ai/anony-mouse-170823/YOLOv5?apiKey=46bce5cb786fe3562c5c269dc78994d11a6a4d44\u001b[0m\r\n",
      "\u001b[34m\u001b[1mwandb\u001b[0m: 🚀 View run at \u001b[34m\u001b[4mhttps://wandb.ai/anony-mouse-170823/YOLOv5/runs/1ympoeke?apiKey=46bce5cb786fe3562c5c269dc78994d11a6a4d44\u001b[0m\r\n",
      "\u001b[34m\u001b[1mwandb\u001b[0m: Run data is saved locally in /kaggle/working/yolov5/wandb/run-20211211_130042-1ympoeke\r\n",
      "\u001b[34m\u001b[1mwandb\u001b[0m: Run `wandb offline` to turn off syncing.\r\n",
      "\u001b[34m\u001b[1mwandb\u001b[0m: \u001b[33mWARNING\u001b[0m Do NOT share these links with anyone. They can be used to claim your runs.\r\n",
      "\r\n",
      "\r\n",
      "\r\n",
      "\r\n",
      "\r\n",
      "\r\n",
      "\r\n",
      "\r\n",
      "\r\n",
      "\r\n",
      "\r\n",
      "\r\n",
      "\r\n",
      "\r\n",
      "\r\n",
      "\r\n",
      "\r\n",
      "\r\n",
      "\r\n",
      "\r\n",
      "\r\n",
      "\r\n",
      "\r\n",
      "\r\n",
      "\r\n",
      "\r\n",
      "\r\n",
      "\r\n",
      "\r\n",
      "\r\n",
      "\r\n",
      "\r\n",
      "\r\n",
      "\r\n",
      "\r\n",
      "\r\n",
      "\r\n",
      "\r\n",
      "\r\n",
      "\r\n",
      "\r\n",
      "\r\n",
      "\r\n",
      "\r\n",
      "\r\n",
      "\r\n",
      "\r\n",
      "\r\n",
      "\r\n",
      "\r\n",
      "\r\n",
      "\r\n",
      "\r\n",
      "\r\n",
      "\r\n",
      "\r\n",
      "\r\n",
      "\r\n",
      "\r\n",
      "\r\n",
      "\r\n",
      "\r\n",
      "\r\n",
      "\r\n",
      "\r\n",
      "\r\n",
      "\r\n",
      "\r\n",
      "\u001b[34m\u001b[1mwandb\u001b[0m: Waiting for W&B process to finish, PID 188... (success).\r\n",
      "\u001b[34m\u001b[1mwandb\u001b[0m:                                                                                \r\n",
      "\u001b[34m\u001b[1mwandb\u001b[0m: Run history:\r\n",
      "\u001b[34m\u001b[1mwandb\u001b[0m:        metrics/mAP_0.5 ▁▁▁▁▁▁▂▂▃▃▃▄▄▅▅▆▆▅▆▆▆▇▇▇▇▇████\r\n",
      "\u001b[34m\u001b[1mwandb\u001b[0m:   metrics/mAP_0.5:0.95 ▁▁▁▁▁▁▂▁▂▂▂▄▃▄▄▅▅▄▅▅▅▇▇▇▆▇▇███\r\n",
      "\u001b[34m\u001b[1mwandb\u001b[0m:      metrics/precision ▁▁▂▁▂▂▂▃▄▃▄▅▆▅▆▆▆▆▆▇▆▆▇▇▇█▇███\r\n",
      "\u001b[34m\u001b[1mwandb\u001b[0m:         metrics/recall ▂▂▁▂▂▂▃▃▄▄▃▅▃▆▅▆▆▅▆▆▆▇▇█▇▇█▇██\r\n",
      "\u001b[34m\u001b[1mwandb\u001b[0m:         train/box_loss █▆▆▆▅▅▅▄▄▄▄▃▃▃▃▃▃▂▂▂▂▂▂▁▁▁▁▁▁▁\r\n",
      "\u001b[34m\u001b[1mwandb\u001b[0m:         train/cls_loss ▁▁▁▁▁▁▁▁▁▁▁▁▁▁▁▁▁▁▁▁▁▁▁▁▁▁▁▁▁▁\r\n",
      "\u001b[34m\u001b[1mwandb\u001b[0m:         train/obj_loss █▇▇▆▅▅▅▄▄▄▃▃▃▃▃▃▂▂▂▂▂▂▂▁▁▁▁▁▁▁\r\n",
      "\u001b[34m\u001b[1mwandb\u001b[0m:           val/box_loss █▇▇▇▆▇▆▆▅▆▅▄▄▃▃▃▃▃▃▂▂▂▂▁▂▁▁▁▁▁\r\n",
      "\u001b[34m\u001b[1mwandb\u001b[0m:           val/cls_loss ▁▁▁▁▁▁▁▁▁▁▁▁▁▁▁▁▁▁▁▁▁▁▁▁▁▁▁▁▁▁\r\n",
      "\u001b[34m\u001b[1mwandb\u001b[0m:           val/obj_loss ██▆▆▆▇▆▆▄▄▄▃▄▃▃▂▂▂▂▂▃▁▂▁▂▁▁▁▁▁\r\n",
      "\u001b[34m\u001b[1mwandb\u001b[0m:                  x/lr0 ▂▃▅▆█████▇▇▇▆▆▆▅▅▄▄▄▃▃▂▂▂▂▁▁▁▁\r\n",
      "\u001b[34m\u001b[1mwandb\u001b[0m:                  x/lr1 ▂▃▅▆█████▇▇▇▆▆▆▅▅▄▄▄▃▃▂▂▂▂▁▁▁▁\r\n",
      "\u001b[34m\u001b[1mwandb\u001b[0m:                  x/lr2 █▇▅▄▂▂▂▂▂▂▂▂▂▁▁▁▁▁▁▁▁▁▁▁▁▁▁▁▁▁\r\n",
      "\u001b[34m\u001b[1mwandb\u001b[0m: \r\n",
      "\u001b[34m\u001b[1mwandb\u001b[0m: Run summary:\r\n",
      "\u001b[34m\u001b[1mwandb\u001b[0m:        metrics/mAP_0.5 0.72659\r\n",
      "\u001b[34m\u001b[1mwandb\u001b[0m:   metrics/mAP_0.5:0.95 0.31073\r\n",
      "\u001b[34m\u001b[1mwandb\u001b[0m:      metrics/precision 0.81721\r\n",
      "\u001b[34m\u001b[1mwandb\u001b[0m:         metrics/recall 0.63403\r\n",
      "\u001b[34m\u001b[1mwandb\u001b[0m:         train/box_loss 0.04592\r\n",
      "\u001b[34m\u001b[1mwandb\u001b[0m:         train/cls_loss 0.0\r\n",
      "\u001b[34m\u001b[1mwandb\u001b[0m:         train/obj_loss 0.01915\r\n",
      "\u001b[34m\u001b[1mwandb\u001b[0m:           val/box_loss 0.0463\r\n",
      "\u001b[34m\u001b[1mwandb\u001b[0m:           val/cls_loss 0.0\r\n",
      "\u001b[34m\u001b[1mwandb\u001b[0m:           val/obj_loss 0.02076\r\n",
      "\u001b[34m\u001b[1mwandb\u001b[0m:                  x/lr0 0.0011\r\n",
      "\u001b[34m\u001b[1mwandb\u001b[0m:                  x/lr1 0.0011\r\n",
      "\u001b[34m\u001b[1mwandb\u001b[0m:                  x/lr2 0.0011\r\n",
      "\u001b[34m\u001b[1mwandb\u001b[0m: \r\n",
      "\u001b[34m\u001b[1mwandb\u001b[0m: Synced 5 W&B file(s), 337 media file(s), 1 artifact file(s) and 0 other file(s)\r\n",
      "\u001b[34m\u001b[1mwandb\u001b[0m: Synced \u001b[33mfinetuned_YOLO5s_with_35_epochs\u001b[0m: \u001b[34mhttps://wandb.ai/anony-mouse-170823/YOLOv5/runs/1ympoeke?apiKey=46bce5cb786fe3562c5c269dc78994d11a6a4d44\u001b[0m\r\n",
      "\u001b[34m\u001b[1mwandb\u001b[0m: Find logs at: ./wandb/run-20211211_130042-1ympoeke/logs/debug.log\r\n",
      "\u001b[34m\u001b[1mwandb\u001b[0m: \r\n",
      "Exception ignored in: <function _MultiProcessingDataLoaderIter.__del__ at 0x7fec925e48c0>\r\n",
      "Traceback (most recent call last):\r\n",
      "  File \"/opt/conda/lib/python3.7/site-packages/torch/utils/data/dataloader.py\", line 1328, in __del__\r\n",
      "  File \"/opt/conda/lib/python3.7/site-packages/torch/utils/data/dataloader.py\", line 1262, in _shutdown_workers\r\n",
      "AttributeError: 'NoneType' object has no attribute 'python_exit_status'\r\n",
      "Exception ignored in: <function _MultiProcessingDataLoaderIter.__del__ at 0x7fec925e48c0>\r\n",
      "Traceback (most recent call last):\r\n",
      "  File \"/opt/conda/lib/python3.7/site-packages/torch/utils/data/dataloader.py\", line 1328, in __del__\r\n",
      "  File \"/opt/conda/lib/python3.7/site-packages/torch/utils/data/dataloader.py\", line 1262, in _shutdown_workers\r\n",
      "AttributeError: 'NoneType' object has no attribute 'python_exit_status'\r\n"
     ]
    }
   ],
   "source": [
    "!python train.py --img 1280 --batch 16 --epochs 30 --data data.yaml --cfg models/yolov5s.yaml --name finetuned_YOLO5s_with_35_epochs --weights yolov5s.pt"
   ]
  },
  {
   "cell_type": "code",
   "execution_count": 18,
   "id": "b8bea774",
   "metadata": {
    "execution": {
     "iopub.execute_input": "2021-12-11T16:55:55.188551Z",
     "iopub.status.busy": "2021-12-11T16:55:55.187331Z",
     "iopub.status.idle": "2021-12-11T16:55:55.191533Z",
     "shell.execute_reply": "2021-12-11T16:55:55.192136Z",
     "shell.execute_reply.started": "2021-12-11T12:57:15.642129Z"
    },
    "papermill": {
     "duration": 3.297201,
     "end_time": "2021-12-11T16:55:55.192293",
     "exception": false,
     "start_time": "2021-12-11T16:55:51.895092",
     "status": "completed"
    },
    "tags": []
   },
   "outputs": [
    {
     "name": "stdout",
     "output_type": "stream",
     "text": [
      "/kaggle/working\n"
     ]
    }
   ],
   "source": [
    "%cd .."
   ]
  },
  {
   "cell_type": "code",
   "execution_count": 19,
   "id": "524e3420",
   "metadata": {
    "execution": {
     "iopub.execute_input": "2021-12-11T16:55:59.933914Z",
     "iopub.status.busy": "2021-12-11T16:55:59.932607Z",
     "iopub.status.idle": "2021-12-11T16:56:15.479507Z",
     "shell.execute_reply": "2021-12-11T16:56:15.478702Z",
     "shell.execute_reply.started": "2021-12-11T12:57:15.654500Z"
    },
    "papermill": {
     "duration": 17.914299,
     "end_time": "2021-12-11T16:56:15.479672",
     "exception": false,
     "start_time": "2021-12-11T16:55:57.565373",
     "status": "completed"
    },
    "tags": []
   },
   "outputs": [
    {
     "data": {
      "text/html": [
       "<a href='yolov5.zip' target='_blank'>yolov5.zip</a><br>"
      ],
      "text/plain": [
       "/kaggle/working/yolov5.zip"
      ]
     },
     "execution_count": 19,
     "metadata": {},
     "output_type": "execute_result"
    }
   ],
   "source": [
    "import shutil\n",
    "shutil.make_archive('yolov5','zip','/kaggle/working/yolov5/')\n",
    "from IPython.display import FileLink\n",
    "FileLink(r'yolov5.zip')"
   ]
  }
 ],
 "metadata": {
  "kernelspec": {
   "display_name": "Python 3",
   "language": "python",
   "name": "python3"
  },
  "language_info": {
   "codemirror_mode": {
    "name": "ipython",
    "version": 3
   },
   "file_extension": ".py",
   "mimetype": "text/x-python",
   "name": "python",
   "nbconvert_exporter": "python",
   "pygments_lexer": "ipython3",
   "version": "3.7.12"
  },
  "papermill": {
   "default_parameters": {},
   "duration": 14258.89272,
   "end_time": "2021-12-11T16:56:18.565952",
   "environment_variables": {},
   "exception": null,
   "input_path": "__notebook__.ipynb",
   "output_path": "__notebook__.ipynb",
   "parameters": {},
   "start_time": "2021-12-11T12:58:39.673232",
   "version": "2.3.3"
  }
 },
 "nbformat": 4,
 "nbformat_minor": 5
}
